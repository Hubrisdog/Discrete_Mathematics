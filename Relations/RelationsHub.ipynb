{
 "cells": [
  {
   "cell_type": "code",
   "execution_count": 27,
   "metadata": {},
   "outputs": [
    {
     "name": "stdout",
     "output_type": "stream",
     "text": [
      "Domain of R: {1, 3, 4}\n",
      "Range of R: {'x', 'y', 'z'}\n"
     ]
    }
   ],
   "source": [
    "R = [(1, \"y\"), (1, \"z\"), (3, \"y\"), (4, \"x\"), (4, \"z\")]\n",
    "domain_R = set(a for a, b in R)\n",
    "range_R = set(b for a, b in R)\n",
    "print(\"Domain of R:\", domain_R)\n",
    "print(\"Range of R:\", range_R)\n"
   ]
  },
  {
   "cell_type": "code",
   "execution_count": 28,
   "metadata": {},
   "outputs": [
    {
     "name": "stdout",
     "output_type": "stream",
     "text": [
      "Is R reflexive: False\n"
     ]
    }
   ],
   "source": [
    "def is_reflexive(R, A):\n",
    "    return all((a, a) in R for a in A)\n",
    "\n",
    "A = {1, 2, 3, 4}\n",
    "R = [(1, \"y\"), (1, \"z\"), (3, \"y\"), (4, \"x\"), (4, \"z\")]\n",
    "print(\"Is R reflexive:\", is_reflexive(R, A))\n"
   ]
  },
  {
   "cell_type": "code",
   "execution_count": 29,
   "metadata": {},
   "outputs": [
    {
     "name": "stdout",
     "output_type": "stream",
     "text": [
      "Is R symmetric: False\n"
     ]
    }
   ],
   "source": [
    "def is_symmetric(R):\n",
    "    return all((b, a) in R for a, b in R)\n",
    "\n",
    "R = [(1, \"y\"), (1, \"z\"), (3, \"y\"), (4, \"x\"), (4, \"z\")]\n",
    "print(\"Is R symmetric:\", is_symmetric(R))\n"
   ]
  },
  {
   "cell_type": "markdown",
   "metadata": {},
   "source": [
    "# Problem 2\n",
    "---\n",
    "* Given $A = \\{1,2,3,4\\}$ and $B=\\{x,y,z\\}$. Let $R$ be a relation from $A \\to B$:\n",
    "\\begin{equation}\n",
    "\\textbf{R} = \\{\n",
    "\\{1,y\\},\\{1,z\\},\\{3,y\\},\\{4,x\\},\\{4,z\\}\n",
    "\\}\n",
    "\\end{equation}"
   ]
  },
  {
   "cell_type": "markdown",
   "metadata": {},
   "source": [
    "1. Find the composition relation $\\textbf{R}\\circ\\textbf{S}$.\n",
    "\n",
    "LaTeX:\n",
    "The composition of two relations $R$ and $S$, denoted as $R \\circ S$, is a new relation where $(a, b)$ is in $R \\circ S$ if and only if there exists an element $c$ such that $(a, c)$ is in $R$ and $(c, b)$ is in $S$.\n",
    "\n",
    "Let's calculate $R \\circ S$:\n",
    "\n",
    "$R = {\n",
    "{1,b},{2,a},{2,c}\n",
    "}$\n",
    "\n",
    "$S = {\n",
    "{a,y},{b,x},{c,y},{c,z}\n",
    "}$\n",
    "\n",
    "$R \\circ S = { (1, x), (2, y) }$"
   ]
  },
  {
   "cell_type": "code",
   "execution_count": 30,
   "metadata": {},
   "outputs": [
    {
     "name": "stdout",
     "output_type": "stream",
     "text": [
      "R ∘ S = [(1, 'x'), (2, 'y'), (2, 'y'), (2, 'z')]\n"
     ]
    }
   ],
   "source": [
    "R = [(1, \"b\"), (2, \"a\"), (2, \"c\")]\n",
    "S = [(\"a\", \"y\"), (\"b\", \"x\"), (\"c\", \"y\"), (\"c\", \"z\")]\n",
    "\n",
    "R_compose_S = [(a, b) for a, c1 in R for c2, b in S if c1 == c2]\n",
    "print(\"R ∘ S =\", R_compose_S)\n"
   ]
  },
  {
   "cell_type": "markdown",
   "metadata": {},
   "source": [
    "2. Find $R^{-1}$.\n",
    "\n",
    "$\\textbf{R}^{-1} = \\{ \\{b ,1\\}, \\{a, 2\\}, \\{c, 2\\} \\}$"
   ]
  },
  {
   "cell_type": "markdown",
   "metadata": {},
   "source": [
    "3. Find $S^{-1}$.\n",
    "\n",
    "LaTeX:\n",
    "To find the inverse of $S$, swap the elements in each pair: $\\textbf{S} = \\{\\{y, a\\}, \\{x, b\\}, \\{y,c\\}, \\{z,c\\}\\}$ \n",
    "So, $S^{-1} = {\n",
    "{y,a},{x,b},{y,c},{z,c}\n",
    "}$\n"
   ]
  },
  {
   "cell_type": "code",
   "execution_count": 31,
   "metadata": {},
   "outputs": [
    {
     "name": "stdout",
     "output_type": "stream",
     "text": [
      "S^-1 = [('y', 'a'), ('x', 'b'), ('y', 'c'), ('z', 'c')]\n"
     ]
    }
   ],
   "source": [
    "S = [(\"a\", \"y\"), (\"b\", \"x\"), (\"c\", \"y\"), (\"c\", \"z\")]\n",
    "S_inverse = [(b, a) for a, b in S]\n",
    "print(\"S^-1 =\", S_inverse)"
   ]
  },
  {
   "cell_type": "markdown",
   "metadata": {},
   "source": [
    "4. Determine the domain and range of $R$\n",
    "\n",
    "The domain of $R$ is $\\{1, 2\\}$ and the range of $R$ is $\\{ a, b, c\\}$"
   ]
  },
  {
   "cell_type": "markdown",
   "metadata": {},
   "source": [
    "5. Check if $R$ is a reflexive relation.\n",
    "\n",
    "LaTeX:\n",
    "A relation $R$ on a set $A$ is reflexive if for every element $a$ in $A$, the pair $(a, a)$ is in $R$.\n",
    "\n",
    "For $R$:\n",
    "$R = {\n",
    "{1,b},{2,a},{2,c}\n",
    "}$\n",
    "\n",
    "$A = {1, 2, 3, 4}$\n",
    "\n",
    "In $R$, there is no pair of the form $(a, a)$ for all $a \\in A$. Therefore, $R$ is not a reflexive relation."
   ]
  },
  {
   "cell_type": "code",
   "execution_count": 32,
   "metadata": {},
   "outputs": [
    {
     "name": "stdout",
     "output_type": "stream",
     "text": [
      "Is R reflexive: False\n"
     ]
    }
   ],
   "source": [
    "def is_reflexive(R, A):\n",
    "    return all((a, a) in R for a in A)\n",
    "\n",
    "A = {1, 2, 3, 4}\n",
    "R = [(1, \"b\"), (2, \"a\"), (2, \"c\")]\n",
    "print(\"Is R reflexive:\", is_reflexive(R, A))\n"
   ]
  },
  {
   "cell_type": "markdown",
   "metadata": {},
   "source": [
    "6. Check if $R$ is a symmetric relation.\n",
    "\n",
    "LaTeX:\n",
    "A relation $R$ on a set $A$ is symmetric if for every pair $(a, b)$ in $R$, the pair $(b, a)$ is also in $R$.\n",
    "\n",
    "For $R$:\n",
    "$R = {\n",
    "{1,1},{2,2},{2,3},{3,2},{4,2},{4,4}\n",
    "}$\n",
    "\n",
    "In $R$, all pairs have corresponding pairs in reverse order, so $R$ is symmetric."
   ]
  },
  {
   "cell_type": "code",
   "execution_count": 33,
   "metadata": {},
   "outputs": [
    {
     "name": "stdout",
     "output_type": "stream",
     "text": [
      "Is R symmetric: False\n"
     ]
    }
   ],
   "source": [
    "def is_symmetric(R):\n",
    "    return all((b, a) in R for a, b in R)\n",
    "\n",
    "R = [(1, 1), (2, 2), (2, 3), (3, 2), (4, 2), (4, 4)]\n",
    "print(\"Is R symmetric:\", is_symmetric(R))\n"
   ]
  },
  {
   "cell_type": "markdown",
   "metadata": {},
   "source": [
    "7. Determine the domain and range of $S$.\n",
    "\n",
    "LaTeX:\n",
    "The domain of a relation is the set of all first elements in the pairs, and the range is the set of all second elements in the pairs.\n",
    "\n",
    "For $S$:\n",
    "$S = {\n",
    "{1,2},{1,3},{2,1},{3,3}\n",
    "}$\n",
    "\n",
    "Domain of $S$ = ${1,2,3}$\n",
    "Range of $S$ = ${1,2,3}$"
   ]
  },
  {
   "cell_type": "code",
   "execution_count": 34,
   "metadata": {},
   "outputs": [
    {
     "name": "stdout",
     "output_type": "stream",
     "text": [
      "Domain of S: {1, 2, 3}\n",
      "Range of S: {1, 2, 3}\n"
     ]
    }
   ],
   "source": [
    "S = [(1, 2), (1, 3), (2, 1), (3, 3)]\n",
    "domain_S = set(a for a, b in S)\n",
    "range_S = set(b for a, b in S)\n",
    "print(\"Domain of S:\", domain_S)\n",
    "print(\"Range of S:\", range_S)\n"
   ]
  },
  {
   "cell_type": "markdown",
   "metadata": {},
   "source": [
    "8. Check if $S$ is a reflexive relation.\n",
    "\n",
    "LaTeX:\n",
    "A relation $S$ on a set $A$ is reflexive if for every element $a$ in $A$, the pair $(a, a)$ is in $S$.\n",
    "\n",
    "For $S$:\n",
    "$S = {\n",
    "{1,2},{1,3},{2,1},{3,3}\n",
    "}$\n",
    "\n",
    "In $S$, there is no pair of the form $(a, a)$ for all $a \\in A$. Therefore, $S$ is not a reflexive relation."
   ]
  },
  {
   "cell_type": "code",
   "execution_count": 35,
   "metadata": {},
   "outputs": [
    {
     "name": "stdout",
     "output_type": "stream",
     "text": [
      "Is S reflexive: False\n"
     ]
    }
   ],
   "source": [
    "def is_reflexive(S, A):\n",
    "    return all((a, a) in S for a in A)\n",
    "\n",
    "A = {1, 2, 3}\n",
    "S = [(1, 2), (1, 3), (2, 1), (3, 3)]\n",
    "print(\"Is S reflexive:\", is_reflexive(S, A))\n"
   ]
  },
  {
   "cell_type": "markdown",
   "metadata": {},
   "source": [
    "9. Check if $S$ is a symmetric relation.\n",
    "\n",
    "LaTeX:\n",
    "A relation $S$ on a set $A$ is symmetric if for every pair $(a, b)$ in $S$, the pair $(b, a)$ is also in $S$.\n",
    "\n",
    "For $S$:\n",
    "$S = {\n",
    "{1,2},{1,3},{2,1},{3,3}\n",
    "}$\n",
    "\n",
    "In $S$, there are pairs with corresponding pairs in reverse order, so $S$ is symmetric."
   ]
  },
  {
   "cell_type": "code",
   "execution_count": 36,
   "metadata": {},
   "outputs": [
    {
     "name": "stdout",
     "output_type": "stream",
     "text": [
      "Is S symmetric: False\n"
     ]
    }
   ],
   "source": [
    "def is_symmetric(S):\n",
    "    return all((b, a) in S for a, b in S)\n",
    "\n",
    "S = [(1, 2), (1, 3), (2, 1), (3, 3)]\n",
    "print(\"Is S symmetric:\", is_symmetric(S))\n"
   ]
  },
  {
   "cell_type": "markdown",
   "metadata": {},
   "source": [
    "---\n",
    "# Problem 3\n",
    "\n",
    "* Given $A = \\{1,2,3,4\\}$. Let $R$ be a relation from $A \\to B$:\n",
    "\\begin{equation}\n",
    "\\textbf{R} = \\{\n",
    "\\{1,1\\},\\{2,2\\},\\{2,3\\},\\{3,2\\},\\{4,2\\},\\{4,4\\}\n",
    "\\}\n",
    "\\end{equation}\n",
    "<br>\n",
    "\n",
    "1. Find the composition relation $\\textbf{R}\\circ\\textbf{R}$.<br>\n",
    "$\\{ 1, 1\\} \\rightarrow \\{ 1, 1\\}$, $\\{ 2, 2\\} \\rightarrow \\{ 2, 2\\}$, $\\{ 2, 2\\} \\rightarrow \\{ 2, 3\\}$, $\\{ 2, 3\\} \\rightarrow \\{ 3, 2\\}$, $\\{ 3, 2\\} \\rightarrow \\{ 2, 2\\}$, $\\{ 3, 2\\} \\rightarrow \\{ 2, 3\\}$, $\\{ 4, 2\\} \\rightarrow \\{ 2, 2\\}$, $\\{ 4, 2\\} \\rightarrow \\{ 2, 3\\}$, $\\{ 4, 4\\} \\rightarrow \\{ 4, 4\\}$\n",
    "\n",
    "Thus we have $b(R \\circ R)b = 1R1, 2R2, 2R3, 3R2, 3R3, 4R2, 4R3, 4R4$\n"
   ]
  },
  {
   "cell_type": "code",
   "execution_count": 44,
   "metadata": {},
   "outputs": [
    {
     "name": "stdout",
     "output_type": "stream",
     "text": [
      "R ∘ R = [(1, 1), (2, 2), (2, 3), (2, 2), (3, 2), (3, 3), (4, 2), (4, 3), (4, 2), (4, 4)]\n"
     ]
    }
   ],
   "source": [
    "R = [(1, 1), (2, 2), (2, 3), (3, 2), (4, 2), (4, 4)]\n",
    "R_compose_R = [(a, c) for a, b1 in R for b2, c in R if b1 == b2]\n",
    "print(\"R ∘ R =\", R_compose_R)"
   ]
  },
  {
   "cell_type": "markdown",
   "metadata": {},
   "source": [
    "2. Draw the directed graph of $R^{-1}$."
   ]
  },
  {
   "cell_type": "code",
   "execution_count": 57,
   "metadata": {},
   "outputs": [
    {
     "data": {
      "image/svg+xml": [
       "<?xml version=\"1.0\" encoding=\"UTF-8\" standalone=\"no\"?>\n",
       "<!DOCTYPE svg PUBLIC \"-//W3C//DTD SVG 1.1//EN\"\n",
       " \"http://www.w3.org/Graphics/SVG/1.1/DTD/svg11.dtd\">\n",
       "<!-- Generated by graphviz version 2.50.0 (0)\n",
       " -->\n",
       "<!-- Pages: 1 -->\n",
       "<svg width=\"242pt\" height=\"116pt\"\n",
       " viewBox=\"0.00 0.00 242.00 116.00\" xmlns=\"http://www.w3.org/2000/svg\" xmlns:xlink=\"http://www.w3.org/1999/xlink\">\n",
       "<g id=\"graph0\" class=\"graph\" transform=\"scale(1 1) rotate(0) translate(4 112)\">\n",
       "<polygon fill=\"white\" stroke=\"transparent\" points=\"-4,4 -4,-112 238,-112 238,4 -4,4\"/>\n",
       "<!-- 1 -->\n",
       "<g id=\"node1\" class=\"node\">\n",
       "<title>1</title>\n",
       "<ellipse fill=\"none\" stroke=\"black\" cx=\"27\" cy=\"-90\" rx=\"27\" ry=\"18\"/>\n",
       "<text text-anchor=\"middle\" x=\"27\" y=\"-86.3\" font-family=\"Times New Roman,serif\" font-size=\"14.00\">1</text>\n",
       "</g>\n",
       "<!-- 1&#45;&gt;1 -->\n",
       "<g id=\"edge1\" class=\"edge\">\n",
       "<title>1&#45;&gt;1</title>\n",
       "<path fill=\"none\" stroke=\"black\" d=\"M46.9,-102.43C59.69,-105.68 72,-101.53 72,-90 72,-81.62 65.5,-77.14 57.04,-76.56\"/>\n",
       "<polygon fill=\"black\" stroke=\"black\" points=\"56.5,-73.1 46.9,-77.57 57.19,-80.07 56.5,-73.1\"/>\n",
       "</g>\n",
       "<!-- 2 -->\n",
       "<g id=\"node2\" class=\"node\">\n",
       "<title>2</title>\n",
       "<ellipse fill=\"none\" stroke=\"black\" cx=\"117\" cy=\"-90\" rx=\"27\" ry=\"18\"/>\n",
       "<text text-anchor=\"middle\" x=\"117\" y=\"-86.3\" font-family=\"Times New Roman,serif\" font-size=\"14.00\">2</text>\n",
       "</g>\n",
       "<!-- 2&#45;&gt;2 -->\n",
       "<g id=\"edge2\" class=\"edge\">\n",
       "<title>2&#45;&gt;2</title>\n",
       "<path fill=\"none\" stroke=\"black\" d=\"M136.9,-102.43C149.69,-105.68 162,-101.53 162,-90 162,-81.62 155.5,-77.14 147.04,-76.56\"/>\n",
       "<polygon fill=\"black\" stroke=\"black\" points=\"146.5,-73.1 136.9,-77.57 147.19,-80.07 146.5,-73.1\"/>\n",
       "</g>\n",
       "<!-- 3 -->\n",
       "<g id=\"node3\" class=\"node\">\n",
       "<title>3</title>\n",
       "<ellipse fill=\"none\" stroke=\"black\" cx=\"117\" cy=\"-18\" rx=\"27\" ry=\"18\"/>\n",
       "<text text-anchor=\"middle\" x=\"117\" y=\"-14.3\" font-family=\"Times New Roman,serif\" font-size=\"14.00\">3</text>\n",
       "</g>\n",
       "<!-- 2&#45;&gt;3 -->\n",
       "<g id=\"edge3\" class=\"edge\">\n",
       "<title>2&#45;&gt;3</title>\n",
       "<path fill=\"none\" stroke=\"black\" d=\"M111.16,-72.41C110.3,-64.51 110.05,-54.85 110.41,-45.94\"/>\n",
       "<polygon fill=\"black\" stroke=\"black\" points=\"113.9,-46.18 111.12,-35.96 106.92,-45.68 113.9,-46.18\"/>\n",
       "</g>\n",
       "<!-- 4 -->\n",
       "<g id=\"node4\" class=\"node\">\n",
       "<title>4</title>\n",
       "<ellipse fill=\"none\" stroke=\"black\" cx=\"189\" cy=\"-18\" rx=\"27\" ry=\"18\"/>\n",
       "<text text-anchor=\"middle\" x=\"189\" y=\"-14.3\" font-family=\"Times New Roman,serif\" font-size=\"14.00\">4</text>\n",
       "</g>\n",
       "<!-- 2&#45;&gt;4 -->\n",
       "<g id=\"edge4\" class=\"edge\">\n",
       "<title>2&#45;&gt;4</title>\n",
       "<path fill=\"none\" stroke=\"black\" d=\"M131.57,-74.83C141.75,-64.94 155.52,-51.55 167.03,-40.36\"/>\n",
       "<polygon fill=\"black\" stroke=\"black\" points=\"169.47,-42.87 174.2,-33.38 164.59,-37.85 169.47,-42.87\"/>\n",
       "</g>\n",
       "<!-- 3&#45;&gt;2 -->\n",
       "<g id=\"edge5\" class=\"edge\">\n",
       "<title>3&#45;&gt;2</title>\n",
       "<path fill=\"none\" stroke=\"black\" d=\"M122.88,-35.96C123.71,-43.83 123.95,-53.37 123.58,-62.19\"/>\n",
       "<polygon fill=\"black\" stroke=\"black\" points=\"120.07,-62.18 122.84,-72.41 127.06,-62.69 120.07,-62.18\"/>\n",
       "</g>\n",
       "<!-- 4&#45;&gt;4 -->\n",
       "<g id=\"edge6\" class=\"edge\">\n",
       "<title>4&#45;&gt;4</title>\n",
       "<path fill=\"none\" stroke=\"black\" d=\"M208.9,-30.43C221.69,-33.68 234,-29.53 234,-18 234,-9.62 227.5,-5.14 219.04,-4.56\"/>\n",
       "<polygon fill=\"black\" stroke=\"black\" points=\"218.5,-1.1 208.9,-5.57 219.19,-8.07 218.5,-1.1\"/>\n",
       "</g>\n",
       "</g>\n",
       "</svg>\n"
      ],
      "text/plain": [
       "<graphviz.sources.Source at 0x2e3f5bee650>"
      ]
     },
     "execution_count": 57,
     "metadata": {},
     "output_type": "execute_result"
    }
   ],
   "source": [
    "G = nx.MultiDiGraph()\n",
    "\n",
    "G.add_edge('1','1')\n",
    "G.add_edge('2','2')\n",
    "G.add_edge('3','2')\n",
    "G.add_edge('2','3')\n",
    "G.add_edge('2','4')\n",
    "G.add_edge('4','4')\n",
    "\n",
    "nx_pydot.write_dot(G, 'multig.dot')\n",
    "Source.from_file('multig.dot')"
   ]
  },
  {
   "cell_type": "markdown",
   "metadata": {},
   "source": [
    "3. Draw a directed graph of $R$"
   ]
  },
  {
   "cell_type": "code",
   "execution_count": 59,
   "metadata": {},
   "outputs": [
    {
     "data": {
      "image/svg+xml": [
       "<?xml version=\"1.0\" encoding=\"UTF-8\" standalone=\"no\"?>\n",
       "<!DOCTYPE svg PUBLIC \"-//W3C//DTD SVG 1.1//EN\"\n",
       " \"http://www.w3.org/Graphics/SVG/1.1/DTD/svg11.dtd\">\n",
       "<!-- Generated by graphviz version 2.50.0 (0)\n",
       " -->\n",
       "<!-- Pages: 1 -->\n",
       "<svg width=\"170pt\" height=\"188pt\"\n",
       " viewBox=\"0.00 0.00 170.00 188.00\" xmlns=\"http://www.w3.org/2000/svg\" xmlns:xlink=\"http://www.w3.org/1999/xlink\">\n",
       "<g id=\"graph0\" class=\"graph\" transform=\"scale(1 1) rotate(0) translate(4 184)\">\n",
       "<polygon fill=\"white\" stroke=\"transparent\" points=\"-4,4 -4,-184 166,-184 166,4 -4,4\"/>\n",
       "<!-- 1 -->\n",
       "<g id=\"node1\" class=\"node\">\n",
       "<title>1</title>\n",
       "<ellipse fill=\"none\" stroke=\"black\" cx=\"27\" cy=\"-162\" rx=\"27\" ry=\"18\"/>\n",
       "<text text-anchor=\"middle\" x=\"27\" y=\"-158.3\" font-family=\"Times New Roman,serif\" font-size=\"14.00\">1</text>\n",
       "</g>\n",
       "<!-- 1&#45;&gt;1 -->\n",
       "<g id=\"edge1\" class=\"edge\">\n",
       "<title>1&#45;&gt;1</title>\n",
       "<path fill=\"none\" stroke=\"black\" d=\"M46.9,-174.43C59.69,-177.68 72,-173.53 72,-162 72,-153.62 65.5,-149.14 57.04,-148.56\"/>\n",
       "<polygon fill=\"black\" stroke=\"black\" points=\"56.5,-145.1 46.9,-149.57 57.19,-152.07 56.5,-145.1\"/>\n",
       "</g>\n",
       "<!-- 2 -->\n",
       "<g id=\"node2\" class=\"node\">\n",
       "<title>2</title>\n",
       "<ellipse fill=\"none\" stroke=\"black\" cx=\"117\" cy=\"-90\" rx=\"27\" ry=\"18\"/>\n",
       "<text text-anchor=\"middle\" x=\"117\" y=\"-86.3\" font-family=\"Times New Roman,serif\" font-size=\"14.00\">2</text>\n",
       "</g>\n",
       "<!-- 2&#45;&gt;2 -->\n",
       "<g id=\"edge2\" class=\"edge\">\n",
       "<title>2&#45;&gt;2</title>\n",
       "<path fill=\"none\" stroke=\"black\" d=\"M136.9,-102.43C149.69,-105.68 162,-101.53 162,-90 162,-81.62 155.5,-77.14 147.04,-76.56\"/>\n",
       "<polygon fill=\"black\" stroke=\"black\" points=\"146.5,-73.1 136.9,-77.57 147.19,-80.07 146.5,-73.1\"/>\n",
       "</g>\n",
       "<!-- 3 -->\n",
       "<g id=\"node3\" class=\"node\">\n",
       "<title>3</title>\n",
       "<ellipse fill=\"none\" stroke=\"black\" cx=\"117\" cy=\"-18\" rx=\"27\" ry=\"18\"/>\n",
       "<text text-anchor=\"middle\" x=\"117\" y=\"-14.3\" font-family=\"Times New Roman,serif\" font-size=\"14.00\">3</text>\n",
       "</g>\n",
       "<!-- 2&#45;&gt;3 -->\n",
       "<g id=\"edge3\" class=\"edge\">\n",
       "<title>2&#45;&gt;3</title>\n",
       "<path fill=\"none\" stroke=\"black\" d=\"M111.16,-72.41C110.3,-64.51 110.05,-54.85 110.41,-45.94\"/>\n",
       "<polygon fill=\"black\" stroke=\"black\" points=\"113.9,-46.18 111.12,-35.96 106.92,-45.68 113.9,-46.18\"/>\n",
       "</g>\n",
       "<!-- 3&#45;&gt;2 -->\n",
       "<g id=\"edge4\" class=\"edge\">\n",
       "<title>3&#45;&gt;2</title>\n",
       "<path fill=\"none\" stroke=\"black\" d=\"M122.88,-35.96C123.71,-43.83 123.95,-53.37 123.58,-62.19\"/>\n",
       "<polygon fill=\"black\" stroke=\"black\" points=\"120.07,-62.18 122.84,-72.41 127.06,-62.69 120.07,-62.18\"/>\n",
       "</g>\n",
       "<!-- 4 -->\n",
       "<g id=\"node4\" class=\"node\">\n",
       "<title>4</title>\n",
       "<ellipse fill=\"none\" stroke=\"black\" cx=\"117\" cy=\"-162\" rx=\"27\" ry=\"18\"/>\n",
       "<text text-anchor=\"middle\" x=\"117\" y=\"-158.3\" font-family=\"Times New Roman,serif\" font-size=\"14.00\">4</text>\n",
       "</g>\n",
       "<!-- 4&#45;&gt;2 -->\n",
       "<g id=\"edge5\" class=\"edge\">\n",
       "<title>4&#45;&gt;2</title>\n",
       "<path fill=\"none\" stroke=\"black\" d=\"M117,-143.7C117,-135.98 117,-126.71 117,-118.11\"/>\n",
       "<polygon fill=\"black\" stroke=\"black\" points=\"120.5,-118.1 117,-108.1 113.5,-118.1 120.5,-118.1\"/>\n",
       "</g>\n",
       "<!-- 4&#45;&gt;4 -->\n",
       "<g id=\"edge6\" class=\"edge\">\n",
       "<title>4&#45;&gt;4</title>\n",
       "<path fill=\"none\" stroke=\"black\" d=\"M136.9,-174.43C149.69,-177.68 162,-173.53 162,-162 162,-153.62 155.5,-149.14 147.04,-148.56\"/>\n",
       "<polygon fill=\"black\" stroke=\"black\" points=\"146.5,-145.1 136.9,-149.57 147.19,-152.07 146.5,-145.1\"/>\n",
       "</g>\n",
       "</g>\n",
       "</svg>\n"
      ],
      "text/plain": [
       "<graphviz.sources.Source at 0x2e3f5cb4f90>"
      ]
     },
     "execution_count": 59,
     "metadata": {},
     "output_type": "execute_result"
    }
   ],
   "source": [
    "\n",
    "G = nx.MultiDiGraph()\n",
    "\n",
    "G.add_edge('1','1')\n",
    "G.add_edge('2','2')\n",
    "G.add_edge('2','3')\n",
    "G.add_edge('3','2')\n",
    "G.add_edge('4','2')\n",
    "G.add_edge('4','4')\n",
    "\n",
    "nx_pydot.write_dot(G, 'multig.dot')\n",
    "Source.from_file('multig.dot')"
   ]
  },
  {
   "cell_type": "markdown",
   "metadata": {},
   "source": [
    "Let $R$ and $S$ be relations on $A = \\{1, 2, 3\\}$\n",
    "\n",
    "Let $\\textbf{R} = \\{\\{1, 1 \\}, \\{1, 2 \\}, \\{2, 3 \\}, \\{3, 1 \\}, \\{3, 3 \\}$ and let $\\textbf{S} = \\{\\{1, 2 \\}, \\{1, 3 \\}, \\{2, 1 \\}, \\{3, 3 \\}$\n",
    "\n",
    "Find\n",
    "1. $R \\cup S$\n",
    "\n",
    "We have $R \\cup S = \\{ \\{1, 2\\}, \\{2, 1\\}, \\{3, 1\\}, \\{1, 1\\}, \\{2, 3\\}, \\{3, 3\\}, \\{1, 3\\} \\}$ "
   ]
  },
  {
   "cell_type": "code",
   "execution_count": 60,
   "metadata": {},
   "outputs": [
    {
     "name": "stdout",
     "output_type": "stream",
     "text": [
      "{(1, 2), (2, 1), (3, 1), (1, 1), (2, 3), (3, 3), (1, 3)}\n"
     ]
    }
   ],
   "source": [
    "R4 = set([(1, 1), (1, 2), (2, 3), (3, 1), (3, 3)])\n",
    "\n",
    "S3 = set([(1, 2), (1, 3), (2, 1), (3, 3)])\n",
    "\n",
    "#The union of R and S\n",
    "\n",
    "U = R4 | S3\n",
    "\n",
    "print(U)"
   ]
  },
  {
   "cell_type": "markdown",
   "metadata": {},
   "source": [
    "2. $R \\cap S$\n",
    "\n",
    "We have $R \\cap S = \\{ \\{1, 2\\}, \\{3, 3\\} \\}$"
   ]
  },
  {
   "cell_type": "code",
   "execution_count": 61,
   "metadata": {},
   "outputs": [
    {
     "name": "stdout",
     "output_type": "stream",
     "text": [
      "{(1, 2), (3, 3)}\n"
     ]
    }
   ],
   "source": [
    "#The intersection of R and S\n",
    "\n",
    "print(R4 & S3)"
   ]
  },
  {
   "cell_type": "markdown",
   "metadata": {},
   "source": [
    "3. $R^C = \\mathcal{U} - R$\n",
    "\n",
    "Where $\\mathcal{U} = R \\cup S = \\{ \\{1, 2\\}, \\{2, 1\\}, \\{3, 1\\}, \\{1, 1\\}, \\{2, 3\\}, \\{3, 3\\}, \\{1, 3\\} \\}$, thus we get $R^C = \\{ \\{1, 3\\}, \\{2, 1\\} \\}$."
   ]
  },
  {
   "cell_type": "code",
   "execution_count": 62,
   "metadata": {},
   "outputs": [
    {
     "name": "stdout",
     "output_type": "stream",
     "text": [
      "{(1, 3), (2, 1)}\n"
     ]
    }
   ],
   "source": [
    "print(U - R4)"
   ]
  },
  {
   "cell_type": "markdown",
   "metadata": {},
   "source": [
    "4. Find $R \\circ S$\n",
    "\n",
    "R∘S, aRc for various 'a' values:\n",
    "\n",
    "For 'a' = 1: Contains {1,2}, {1,3}\n",
    "For 'a' = 2: Contains {1,1}\n",
    "For 'a' = 3: Contains {2,3}, {3,2}, {3,3}\n",
    "R∘S = {{1,1}, {1,2}, {1,3}, {2,3}, {3,2}, {3,3}}"
   ]
  },
  {
   "cell_type": "markdown",
   "metadata": {},
   "source": [
    "5. $S \\circ S$.<br>\n",
    "- {1,2} $\\in$ R = aRb, {2,1} $\\in$ S = bRc. $\\quad \\therefore$ R $\\circ$ S, aRc = {1,1}\n",
    "- {1,3} $\\in$ R = aRb, {3,3} $\\in$ S = bRc. $\\quad \\therefore$ R $\\circ$ S, aRc = {1,3}\n",
    "- {2,1} $\\in$ R = aRb, {1,2}, {1,3} $\\in$ S = bRc. $\\quad \\therefore$ R $\\circ$ S, aRc = {2,2}, {2,3}\n",
    "- {3,3} $\\in$ R = aRb, {3,3} $\\in$ S = bRc. $\\quad \\therefore$ R $\\circ$ S, aRc = {3,3}\n",
    "- $S \\circ S$ = {{1,1}, {1,3}, {2,2}, {2,3}, {3,3}}"
   ]
  },
  {
   "cell_type": "markdown",
   "metadata": {},
   "source": [
    "---\n",
    "# Problem 4\n",
    "* Consider the five relations on the set $A = \\{1,2,3\\}$:\n",
    "\\begin{equation}\n",
    "\\textbf{R} = \\{\n",
    "\\{1,1\\},\\{1,2\\},\\{1,3\\},\\{3,3\\}\n",
    "\\}\n",
    "\\end{equation}\n",
    "<br>\n",
    "\\begin{equation}\n",
    "\\textbf{S} = \\{\n",
    "\\{1,1\\},\\{1,2\\},\\{2,1\\},\\{2,2\\},\\{3,3\\}\n",
    "\\}\n",
    "\\end{equation}\n",
    "<br>\n",
    "\\begin{equation}\n",
    "\\textbf{T} = \\{\n",
    "\\{1,1\\},\\{1,2\\},\\{2,2\\},\\{2,3\\},\n",
    "\\}\n",
    "\\end{equation}\n",
    "<br>"
   ]
  },
  {
   "cell_type": "markdown",
   "metadata": {},
   "source": [
    "The relation that exhibits reflexive, symmetric, and transitive properties is solely denoted as $S$. Upon careful examination, it becomes evident that $S$ encompasses the set ${(a, a) | \\forall a \\in A} = {(1, 1), (2, 2), (3, 3)}$, establishing its reflexive nature. Additionally, the equivalence $S = S^{-1}$ underscores its symmetry. Notably, when a relation embodies both reflexive and symmetric characteristics, it inherently possesses the quality of transitivity as well."
   ]
  },
  {
   "cell_type": "code",
   "execution_count": 65,
   "metadata": {},
   "outputs": [
    {
     "name": "stdout",
     "output_type": "stream",
     "text": [
      "Is R reflexive? False\n",
      "Is R symmetric? False\n",
      "Is R transitive? True\n",
      "Is S reflexive? True\n",
      "Is S symmetric? True\n",
      "Is S transitive? True\n",
      "Is T reflexive? False\n",
      "Is T symmetric? False\n",
      "Is T transitive? False\n"
     ]
    }
   ],
   "source": [
    "def reflexive(relation, set_A):\n",
    "    for element in set_A:\n",
    "        if (element, element) not in relation:\n",
    "            return False\n",
    "    return True\n",
    "\n",
    "def symmetric(relation, set_A):\n",
    "    for pair in relation:\n",
    "        if (pair[1], pair[0]) not in relation:\n",
    "            return False\n",
    "    return True\n",
    "\n",
    "def transitive(relation, set_A):\n",
    "    for a in set_A:\n",
    "        for b in set_A:\n",
    "            for c in set_A:\n",
    "                if (a, b) in relation and (b, c) in relation and (a, c) not in relation:\n",
    "                    return False\n",
    "    return True\n",
    "\n",
    "A = [1, 2, 3]\n",
    "\n",
    "R5 = [(1, 1), (1, 2), (1, 3), (3, 3)]\n",
    "S3 = [(1, 1), (1, 2), (2, 1), (2, 2), (3, 3)]\n",
    "T =  [(1, 1), (1, 2), (2, 2), (2, 3)]\n",
    "\n",
    "print(\"Is R reflexive?\", reflexive(R5, A))\n",
    "print(\"Is R symmetric?\", symmetric(R5, A))\n",
    "print(\"Is R transitive?\", transitive(R5, A))\n",
    "print(\"Is S reflexive?\", reflexive(S3, A))\n",
    "print(\"Is S symmetric?\", symmetric(S3, A))\n",
    "print(\"Is S transitive?\", transitive(S3, A))\n",
    "print(\"Is T reflexive?\", reflexive(T, A))\n",
    "print(\"Is T symmetric?\", symmetric(T, A))\n",
    "print(\"Is T transitive?\", transitive(T, A))"
   ]
  }
 ],
 "metadata": {
  "kernelspec": {
   "display_name": "Python 3",
   "language": "python",
   "name": "python3"
  },
  "language_info": {
   "codemirror_mode": {
    "name": "ipython",
    "version": 3
   },
   "file_extension": ".py",
   "mimetype": "text/x-python",
   "name": "python",
   "nbconvert_exporter": "python",
   "pygments_lexer": "ipython3",
   "version": "3.11.4"
  },
  "orig_nbformat": 4
 },
 "nbformat": 4,
 "nbformat_minor": 2
}
